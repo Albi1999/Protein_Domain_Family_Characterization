{
 "cells": [
  {
   "cell_type": "code",
   "execution_count": 4,
   "metadata": {},
   "outputs": [],
   "source": [
    "from Bio import AlignIO\n",
    "from collections import Counter\n",
    "import pandas as pd\n",
    "from scipy.stats import entropy\n",
    "import math\n",
    "from Bio.Align import MultipleSeqAlignment\n",
    "from Bio.SeqRecord import SeqRecord\n",
    "from Bio.Seq import Seq\n",
    "from Bio import SeqIO\n",
    "import sys"
   ]
  },
  {
   "cell_type": "code",
   "execution_count": 6,
   "metadata": {},
   "outputs": [
    {
     "name": "stdout",
     "output_type": "stream",
     "text": [
      "[('P54315.1', 18, 353), ('P54316.1', 18, 353), ('P06857.2', 18, 353), ('Q5BKQ4.2', 18, 353), ('P17892.2', 31, 367), ('P29183.2', 13, 348), ('P00591.2', 2, 336), ('P54318.1', 17, 353), ('Q64425.1', 9, 344), ('P16233.1', 17, 352), ('O88354.2', 17, 352), ('P27657.1', 17, 352), ('Q6P8U6.1', 17, 352), ('P54317.2', 18, 354), ('D7EZN2.1', 18, 356), ('A5PK46.1', 18, 354), ('Q64424.1', 20, 355), ('Q02157.1', 18, 352), ('P50903.1', 18, 352), ('P81139.1', 2, 319), ('Q17RR3.2', 18, 352), ('Q9BDJ4.1', 38, 323), ('Q8WWY8.1', 39, 326), ('Q6PA23.1', 45, 335), ('Q8CIV3.2', 39, 302), ('Q32PY2.1', 39, 302), ('P49923.1', 66, 335), ('Q9WVG5.3', 66, 338), ('Q9Y5X9.1', 46, 338), ('Q5XGE9.1', 45, 311), ('Q6XZB0.3', 40, 316), ('Q29524.1', 40, 335), ('P11151.2', 40, 335), ('P06858.1', 37, 332), ('P49060.1', 37, 332), ('P11153.1', 53, 322), ('O46647.1', 37, 332), ('Q06000.1', 37, 332), ('Q8VBX1.2', 68, 340), ('Q641F6.1', 45, 335), ('P11152.3', 37, 332), ('J3RZ81.1', 41, 348), ('Q3SZ79.1', 43, 350), ('P11602.1', 35, 332), ('P55031.1', 66, 335), ('P27656.2', 28, 350), ('Q5E9H0.1', 49, 308), ('P11150.3', 23, 349), ('Q6DBU8.1', 43, 331), ('O46559.1', 49, 349), ('P97535.1', 49, 308), ('Q8VI78.3', 49, 308), ('Q53H76.2', 49, 308), ('Q5RBQ5.2', 49, 308), ('Q6NYZ4.1', 47, 340), ('P07867.2', 45, 350), ('Q6Q249.1', 57, 297), ('P51528.1', 13, 281), ('P0CH47.1', 43, 277), ('Q6Q250.1', 57, 297), ('Q6Q251.1', 57, 297), ('Q6Q252.1', 78, 318), ('Q3ZU95.1', 13, 281), ('P49369.1', 49, 317), ('C0HLL3.1', 10, 244), ('P53357.1', 2, 243), ('P0DPT0.1', 4, 241), ('P0CH86.1', 5, 238), ('Q06478.1', 8, 298), ('A2VBC4.1', 32, 303), ('P0DMB4.1', 19, 274), ('P0DMB5.1', 19, 274), ('P0CH87.1', 48, 241), ('Q9U6W0.1', 43, 238), ('A0A0M3KKW3.1', 5, 240), ('P02844.2', 221, 383), ('P06607.1', 214, 372), ('P0DSI2.1', 50, 332), ('Q68KK0.1', 79, 249), ('P27878.1', 222, 379), ('P02843.1', 223, 382), ('P27587.1', 212, 366), ('P83629.2', 1, 25)]\n"
     ]
    }
   ],
   "source": [
    "import csv\n",
    "\n",
    "# Path to the PSI-BLAST output file (CSV format)\n",
    "psiblast_results_file = \"psiblast-Alignment-HitTable.csv\"\n",
    "\n",
    "# List to store matching positions\n",
    "matching_positions = []\n",
    "\n",
    "# Read the CSV file\n",
    "with open(psiblast_results_file, newline='') as csvfile:\n",
    "    csvreader = csv.reader(csvfile)\n",
    "    \n",
    "    # Skip the header row if present (uncomment if needed)\n",
    "    # next(csvreader)\n",
    "    \n",
    "    for row in csvreader:\n",
    "        # Assuming the CSV format is the same as BLAST's tabular output:\n",
    "        # Query ID, Subject ID, ..., sstart, send, ...\n",
    "        target_name = row[1]\n",
    "        start = int(row[8])  # Alignment start\n",
    "        end = int(row[9])    # Alignment end\n",
    "\n",
    "        # Ensure start is less than end (normalize for strand direction)\n",
    "        matching_positions.append((target_name, min(start, end), max(start, end)))\n",
    "\n",
    "# Print matching positions\n",
    "print(matching_positions)"
   ]
  }
 ],
 "metadata": {
  "kernelspec": {
   "display_name": "Python 3",
   "language": "python",
   "name": "python3"
  },
  "language_info": {
   "codemirror_mode": {
    "name": "ipython",
    "version": 3
   },
   "file_extension": ".py",
   "mimetype": "text/x-python",
   "name": "python",
   "nbconvert_exporter": "python",
   "pygments_lexer": "ipython3",
   "version": "3.10.11"
  }
 },
 "nbformat": 4,
 "nbformat_minor": 2
}
